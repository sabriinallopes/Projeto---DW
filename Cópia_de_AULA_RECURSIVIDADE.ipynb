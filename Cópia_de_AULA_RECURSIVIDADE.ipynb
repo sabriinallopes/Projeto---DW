{
  "cells": [
    {
      "cell_type": "markdown",
      "metadata": {
        "id": "view-in-github",
        "colab_type": "text"
      },
      "source": [
        "<a href=\"https://colab.research.google.com/github/sabriinallopes/Projeto---DW/blob/main/C%C3%B3pia_de_AULA_RECURSIVIDADE.ipynb\" target=\"_parent\"><img src=\"https://colab.research.google.com/assets/colab-badge.svg\" alt=\"Open In Colab\"/></a>"
      ]
    },
    {
      "cell_type": "markdown",
      "metadata": {
        "id": "57zjfeR3ZDLU"
      },
      "source": [
        "**FATORIAL**"
      ]
    },
    {
      "cell_type": "code",
      "execution_count": null,
      "metadata": {
        "colab": {
          "base_uri": "https://localhost:8080/"
        },
        "id": "1pDFTyQnWFiR",
        "outputId": "aef97014-23f6-4818-b705-734c3efc9ece"
      },
      "outputs": [
        {
          "name": "stdout",
          "output_type": "stream",
          "text": [
            "Digite um número para calcular o seu FATORIAL.10\n",
            "O fatorial de 10 é 3628800\n"
          ]
        }
      ],
      "source": [
        "\n",
        "Q\n"
      ]
    },
    {
      "cell_type": "markdown",
      "metadata": {
        "id": "xestbGswcji1"
      },
      "source": [
        "**FIBONACCI**"
      ]
    },
    {
      "cell_type": "code",
      "execution_count": null,
      "metadata": {
        "colab": {
          "background_save": true,
          "base_uri": "https://localhost:8080/"
        },
        "id": "Ztsp-coJcnmf",
        "outputId": "a090db76-4664-4669-842b-c9f5392a0af6"
      },
      "outputs": [
        {
          "name": "stdout",
          "output_type": "stream",
          "text": [
            "O Fibonacci de 40 é 63245986\n"
          ]
        }
      ],
      "source": [
        "\n",
        "\n",
        "def fibonacci(num):\n",
        "  if num <=1:\n",
        "    return num\n",
        "  else:\n",
        "    return fibonacci(num-1) + fibonacci(num-2)\n",
        "\n",
        "x  = int(input (\"Digite um número para calcular seu Fibonacci\"))\n",
        "resultado = fibonacci(x-1)\n",
        "print(\"O Fibonacci de %d é %d\" %(x,resultado))\n",
        "\n",
        "\n",
        "\n"
      ]
    },
    {
      "cell_type": "markdown",
      "metadata": {
        "id": "MXFNFAxuGhWp"
      },
      "source": [
        "**COMPARATIVO RECURSIVO X ITERATIVO**"
      ]
    },
    {
      "cell_type": "markdown",
      "metadata": {
        "id": "YkqUrcWN1Hx0"
      },
      "source": [
        "**RECURSIVO**"
      ]
    },
    {
      "cell_type": "code",
      "execution_count": null,
      "metadata": {
        "colab": {
          "base_uri": "https://localhost:8080/"
        },
        "id": "gJCCTI4MIhcX",
        "outputId": "e9712b6d-3966-416e-89e8-bd38bb6ce74e"
      },
      "outputs": [
        {
          "name": "stdout",
          "output_type": "stream",
          "text": [
            "Digite um número para calcular o seu FATORIAL.5\n",
            "O fatorial de 5 é 120\n"
          ]
        }
      ],
      "source": [
        "def fatorial_recursivo(n):\n",
        "    if n == 0:\n",
        "      return 1\n",
        "    else:\n",
        "      return n * fatorial_recursivo(n - 1)\n",
        "\n",
        "\n",
        "x = int(input (\"Digite um número para calcular o seu FATORIAL.\"))\n",
        "resultado = fatorial_recursivo(x)\n",
        "print(\"O fatorial de %d é %d\" % (x,resultado))      \n"
      ]
    },
    {
      "cell_type": "markdown",
      "metadata": {
        "id": "EoJjoiOj0ss8"
      },
      "source": [
        "**ITERATIVO**"
      ]
    },
    {
      "cell_type": "code",
      "execution_count": null,
      "metadata": {
        "colab": {
          "base_uri": "https://localhost:8080/"
        },
        "id": "s3IozwMS3yOR",
        "outputId": "c55969d7-5e92-4456-9d02-407f33aa59d6"
      },
      "outputs": [
        {
          "name": "stdout",
          "output_type": "stream",
          "text": [
            "Digite um número para calcular o seu FATORIAL.0\n",
            "O fatorial de 0 é 1\n"
          ]
        }
      ],
      "source": [
        "def fatorial_iterativo(n):\n",
        "  fatorial = 1\n",
        "  while (n):\n",
        "    print(\"erro\")   \n",
        "    fatorial *= n\n",
        "    n -= 1\n",
        "  return fatorial\n",
        "\n",
        "\n",
        "\n",
        "x = int(input (\"Digite um número para calcular o seu FATORIAL.\"))\n",
        "resultado = fatorial_iterativo(x)\n",
        "print(\"O fatorial de %d é %d\" % (x,resultado))    "
      ]
    },
    {
      "cell_type": "markdown",
      "metadata": {
        "id": "NQnw69DDPBsH"
      },
      "source": [
        "**LISTAS**"
      ]
    },
    {
      "cell_type": "code",
      "execution_count": null,
      "metadata": {
        "colab": {
          "base_uri": "https://localhost:8080/"
        },
        "id": "lddNBL0ajoQU",
        "outputId": "58d036e1-dd6f-4c35-b8ba-ca5957d1b447"
      },
      "outputs": [
        {
          "name": "stdout",
          "output_type": "stream",
          "text": [
            "70\n"
          ]
        }
      ],
      "source": [
        "tabnum=[5,7,10, 8, 8 , 8, 45,12,63,29,17,12,45,29,52.1,69.58]\n",
        "print(tabnum[1]*tabnum[2])\n",
        "\n",
        "tabfrutas_peso=[[\"mamão\",2], [\"banana\",10],[\"uva\",1], [\"morango\",5]]\n",
        "#print(tabfrutas_peso)  \n",
        "  \n",
        "tabnomes = [[\"Milena\"],[\"Kelly\"], [\"Maria\"], [\"José\"], [\"Cláudio\"], [\"Milena\"], [\"Milena\"]]\n",
        "#print(tabnomes)\n"
      ]
    },
    {
      "cell_type": "code",
      "execution_count": null,
      "metadata": {
        "colab": {
          "base_uri": "https://localhost:8080/"
        },
        "id": "4dqjFgzYuXf0",
        "outputId": "249d2d74-8ade-4631-8cdb-b92de60cc166"
      },
      "outputs": [
        {
          "data": {
            "text/plain": [
              "2"
            ]
          },
          "execution_count": 13,
          "metadata": {},
          "output_type": "execute_result"
        }
      ],
      "source": [
        "# count -  retorna quantas vezes o elemento [\"Kelly\"] ocorre na lista tabnomes (por exemplo)\n",
        "\n",
        "#tabnomes.count([\"Milena\"])\n",
        "\n",
        "tabnum.count(29)"
      ]
    },
    {
      "cell_type": "code",
      "execution_count": null,
      "metadata": {
        "colab": {
          "base_uri": "https://localhost:8080/"
        },
        "id": "9o6w4Q2VuQKI",
        "outputId": "0dda7776-c958-4afb-c634-33494995339c"
      },
      "outputs": [
        {
          "data": {
            "text/plain": [
              "3"
            ]
          },
          "execution_count": 14,
          "metadata": {},
          "output_type": "execute_result"
        }
      ],
      "source": [
        "# index -  retorna o índice da primeira ocorrência do elemento [\"Pedro\"] na lista tabnomes (por exemplo). Se não existe x retorna ValueError\n",
        "\n",
        "tabnum.index(8)\n",
        "\n"
      ]
    },
    {
      "cell_type": "code",
      "execution_count": null,
      "metadata": {
        "colab": {
          "base_uri": "https://localhost:8080/"
        },
        "id": "kmOXjSCO5L9V",
        "outputId": "e884f015-cd21-4bd8-ca73-7c90c2eed5ab"
      },
      "outputs": [
        {
          "data": {
            "text/plain": [
              "0"
            ]
          },
          "execution_count": 9,
          "metadata": {},
          "output_type": "execute_result"
        }
      ],
      "source": [
        "# index([\"Milena\"],0) -  retorna o índice da primeira ocorrência do elemento [\"Milena\"] a partir do elememento 0 na lista numeros(por exemplo). \n",
        "#Se não existe [\"Milena\"] após determinada posição, aparecerá: \"ValueError: [\"Milena\"] is not in list\"\n",
        "\n",
        "\n",
        "tabnomes.index([\"Milena\"],0)"
      ]
    },
    {
      "cell_type": "code",
      "execution_count": null,
      "metadata": {
        "colab": {
          "base_uri": "https://localhost:8080/"
        },
        "id": "ZhZOA7Q5ulH2",
        "outputId": "c0000726-fa56-4ac4-cd8c-1e7aa1a0ebf4"
      },
      "outputs": [
        {
          "data": {
            "text/plain": [
              "10"
            ]
          },
          "execution_count": 15,
          "metadata": {},
          "output_type": "execute_result"
        }
      ],
      "source": [
        "# index(5,0) -  retorna o índice da primeira ocorrência do elemento 5 a partir do elememento 0 na lista numeros(por exemplo). \n",
        "#Se não existe 5 após determinada posição, aparecerá: \"ValueError: 5 is not in list\"\n",
        "\n",
        "\n",
        "\n",
        "numeros = [1,2,5,3,6,2,52,22,2,1,5,5,5,5,5,2]\n",
        "\n",
        "numeros.index(5,9)\n"
      ]
    },
    {
      "cell_type": "code",
      "execution_count": null,
      "metadata": {
        "colab": {
          "base_uri": "https://localhost:8080/"
        },
        "id": "apENdHzS5mem",
        "outputId": "673bb2e2-a494-4230-8df7-3c9937f78fd5"
      },
      "outputs": [
        {
          "data": {
            "text/plain": [
              "10"
            ]
          },
          "execution_count": 15,
          "metadata": {},
          "output_type": "execute_result"
        }
      ],
      "source": [
        "# index(5,3,11) -  retorna o índice da primeira ocorrência do elemento 5 a partir do elememento 3 na lista numeros até 10 (por exemplo). \n",
        "#Se não existe 5 após determinada posição, aparecerá: \"ValueError: 5 is not in list\"\n",
        "\n",
        "\n",
        "\n",
        "numeros = [1,2,5,3,6,2,52,22,2,1,5,5,5,5,5,2]\n",
        "\n",
        "numeros.index(5,3,11)\n"
      ]
    },
    {
      "cell_type": "markdown",
      "metadata": {
        "id": "J0ZlDN2xfNQu"
      },
      "source": [
        "**ALGORITMO DE BUSCA SEQUENCIAL**"
      ]
    },
    {
      "cell_type": "code",
      "execution_count": null,
      "metadata": {
        "colab": {
          "base_uri": "https://localhost:8080/"
        },
        "id": "-9Fpj1gOfSXQ",
        "outputId": "8bf73c67-15ef-49ce-ed48-097f25425ede"
      },
      "outputs": [
        {
          "data": {
            "text/plain": [
              "-1"
            ]
          },
          "execution_count": 21,
          "metadata": {},
          "output_type": "execute_result"
        }
      ],
      "source": [
        "# busca do elemento x numa lista a de n elementos, devolvendo –1 se não o encontrou\n",
        "# ou o índice do primeiro elemento igual a x encontrado.\n",
        "\n",
        "lista=[1,2,5,7,9,21,50,200, 1520,52, 1,21,23,2,2,2, 450, 85, 74, 15, 987]\n",
        "\n",
        "def busca_sequencial(lista, x): \n",
        " for i in range(len(lista)):\n",
        "  if lista[i] == x: return i  # encontrou\n",
        " return -1 # não encontrou\n",
        "\n",
        "\n",
        "\n",
        "busca_sequencial(lista,9870)"
      ]
    },
    {
      "cell_type": "code",
      "execution_count": null,
      "metadata": {
        "colab": {
          "base_uri": "https://localhost:8080/"
        },
        "id": "jZv04Gu9ZuFR",
        "outputId": "c6c831fe-e2c5-40cf-fa9d-219c76b046d0"
      },
      "outputs": [
        {
          "data": {
            "text/plain": [
              "4"
            ]
          },
          "execution_count": 14,
          "metadata": {},
          "output_type": "execute_result"
        }
      ],
      "source": [
        "chave = 45\n",
        "lista = [20, 5, 15, 24, 67, 45, 1, 76, 21, 11]\n",
        "\n",
        "def buscaSequencial(lista, chave):\n",
        " n = len(lista) #tamanho da lista que estou explorando\n",
        " for i in range(n):\n",
        "  if lista[i] == chave:\n",
        "   return i\n",
        "\n",
        " return -1\n",
        "\n",
        "buscaSequencial(lista, 67)\n",
        "#buscaSequencial(lista, 210)\n",
        "\n",
        "\n"
      ]
    },
    {
      "cell_type": "markdown",
      "metadata": {
        "id": "Uoy2rFbnryJ-"
      },
      "source": [
        "**ALGORITMO DE BUSCA BINÁRIA ORDENADA**"
      ]
    },
    {
      "cell_type": "code",
      "execution_count": null,
      "metadata": {
        "colab": {
          "base_uri": "https://localhost:8080/"
        },
        "id": "n8xkK9bvdEQA",
        "outputId": "7bf6c6b5-07a2-4012-cb2c-5a6bf857aa8c"
      },
      "outputs": [
        {
          "name": "stdout",
          "output_type": "stream",
          "text": [
            "5\n",
            "2\n",
            "0\n",
            "1\n"
          ]
        },
        {
          "data": {
            "text/plain": [
              "1"
            ]
          },
          "execution_count": 6,
          "metadata": {},
          "output_type": "execute_result"
        }
      ],
      "source": [
        "lista=[1,2,3,8,9,41,58,25,98,100,121,300]\n",
        "\n",
        "def buscaBinária(lista, chave):\n",
        " pos_ini = 0\n",
        " pos_fim = len(lista) - 1\n",
        "\n",
        " while pos_ini <= pos_fim:\n",
        "  pos_meio = (pos_ini + pos_fim) // 2\n",
        "  print(pos_meio)    \n",
        "  if lista[pos_meio] == chave:\n",
        "     return pos_meio\n",
        "  if lista[pos_meio] > chave:\n",
        "   pos_fim = pos_meio - 1\n",
        "  if lista[pos_meio] < chave:\n",
        "   pos_ini = pos_meio + 1\n",
        "\n",
        " return -1\n",
        "\n",
        "buscaBinária(lista,2)\n"
      ]
    },
    {
      "cell_type": "markdown",
      "metadata": {
        "id": "c_kwWt-YnzQn"
      },
      "source": [
        "**EXERCÍCIO**"
      ]
    },
    {
      "cell_type": "code",
      "execution_count": null,
      "metadata": {
        "colab": {
          "base_uri": "https://localhost:8080/"
        },
        "id": "aZ3hl8Lhn2Fg",
        "outputId": "e00ea6bc-7669-4d38-e9b2-39f08a63090b"
      },
      "outputs": [
        {
          "name": "stdout",
          "output_type": "stream",
          "text": [
            "0\n",
            "4\n",
            "7\n",
            "10\n",
            "14\n",
            "15\n",
            "16\n",
            "17\n",
            "18\n",
            "19\n",
            "20\n",
            "21\n",
            "23\n",
            "24\n",
            "25\n"
          ]
        },
        {
          "data": {
            "text/plain": [
              "-1"
            ]
          },
          "execution_count": 29,
          "metadata": {},
          "output_type": "execute_result"
        }
      ],
      "source": [
        "lista = [1,2,3,5,1,5,9,1,52,12,1,2,3,4,1,1,1,1,1,1,1,1,11,1,1,1]\n",
        "\n",
        "\n",
        "def busca_seq(lista, x): \n",
        " for i in range(len(lista)):\n",
        "  if lista[i] == x: print(i) \n",
        " return -1 # não encontrou\n",
        "\n",
        "\n",
        "busca_seq(lista, 1)\n",
        "\n",
        "\n",
        "\n"
      ]
    },
    {
      "cell_type": "markdown",
      "metadata": {
        "id": "fMxUzFxk4yNz"
      },
      "source": [
        "**ORIENTAÇÃO A OBJETOS**"
      ]
    },
    {
      "cell_type": "code",
      "execution_count": null,
      "metadata": {
        "colab": {
          "base_uri": "https://localhost:8080/"
        },
        "id": "uQJ9Pob8418l",
        "outputId": "982489e8-0fbe-46c7-dfe1-4eb8eddbf0df"
      },
      "outputs": [
        {
          "name": "stdout",
          "output_type": "stream",
          "text": [
            "A professora da disciplina é Kelly Maciel Costa\n"
          ]
        }
      ],
      "source": [
        "#Método Construtor\n",
        "\n",
        "class professora: \n",
        "  def __init__(self):\n",
        "    self.nome= 'Kelly Maciel Costa'\n",
        "    print('A professora da disciplina é '+self.nome)\n",
        "\n",
        "\n",
        "x=professora() #instanciando a classe\n",
        "\n"
      ]
    },
    {
      "cell_type": "code",
      "execution_count": null,
      "metadata": {
        "colab": {
          "base_uri": "https://localhost:8080/"
        },
        "id": "yBuW-F9-6mvk",
        "outputId": "0d4756f7-2133-4b1d-d8e1-31f2ff2f6b79"
      },
      "outputs": [
        {
          "name": "stdout",
          "output_type": "stream",
          "text": [
            "Digite o seu nome: Kelly\n",
            "Digite a sua cor: Lilás\n",
            "A cor que Kelly prefere é Lilás!\n"
          ]
        }
      ],
      "source": [
        "#Método Construtor com parâmetros\n",
        "\n",
        "class cores: \n",
        "  def __init__(self,nome, cor):\n",
        "    self.nome=nome #definição de variáveis\n",
        "    self.cor=cor\n",
        "    print('A cor que '+self.nome+' prefere é '+self.cor +'!')\n",
        "\n",
        "#definindo variáveis\n",
        "a= input('Digite o seu nome: ')\n",
        "b= input('Digite a sua cor: ')\n",
        "cor=cores(a, b)\n",
        "\n",
        "\n",
        "  \n",
        "\n"
      ]
    },
    {
      "cell_type": "code",
      "execution_count": null,
      "metadata": {
        "colab": {
          "base_uri": "https://localhost:8080/"
        },
        "id": "4TsAY-t1TEfL",
        "outputId": "ea5e2b09-d651-42bd-e4cd-fc9ab24d24b2"
      },
      "outputs": [
        {
          "name": "stdout",
          "output_type": "stream",
          "text": [
            "Rational(30, 20)\n"
          ]
        }
      ],
      "source": [
        "#utilização _repr_ e None\n",
        "\n",
        "class Complex: \n",
        "    \n",
        "    def __init__(self, real=None, imag=None): \n",
        "       self.real = real \n",
        "       self.imag = imag \n",
        "  \n",
        "    \n",
        "    def __repr__(self): \n",
        "       return 'Rational(%s, %s)' % (self.real, self.imag)     \n",
        "     \n",
        "      \n",
        "t = Complex(30, 20) \n",
        "   \n",
        "print (repr(t)) \n"
      ]
    },
    {
      "cell_type": "markdown",
      "metadata": {
        "id": "Hls3fOuU0S-T"
      },
      "source": [
        "**ÁRVORE BINÁRIA**"
      ]
    },
    {
      "cell_type": "code",
      "execution_count": null,
      "metadata": {
        "colab": {
          "base_uri": "https://localhost:8080/"
        },
        "id": "kP8qIM030Tg6",
        "outputId": "c21993db-edcc-41a0-d8fb-d6d718b66d18"
      },
      "outputs": [
        {
          "name": "stdout",
          "output_type": "stream",
          "text": [
            "(2, 3, 5)\n"
          ]
        }
      ],
      "source": [
        "#SELF - Referência ao próprio objeto; NONE - sem valor inicial (não tem métodos)\n",
        "\n",
        "class NodoArvore:\n",
        "    def __init__(self, chave=None, esquerda=None, direita=None):\n",
        "        self.chave = chave\n",
        "        self.esquerda = esquerda\n",
        "        self.direita = direita\n",
        "\n",
        "    def __repr__(self):\n",
        "        return '%s <- %s -> %s' % (self.esquerda and self.esquerda.chave,\n",
        "                                    self.chave,\n",
        "                                    self.direita and self.direita.chave)\n",
        "        \n",
        "x=2 and 2, 3, 5 and 5  \n",
        "print(repr(x))      "
      ]
    },
    {
      "cell_type": "code",
      "execution_count": null,
      "metadata": {
        "colab": {
          "base_uri": "https://localhost:8080/"
        },
        "id": "P3ctUsUiagS7",
        "outputId": "9c53a1e8-4e96-458b-a68a-d6fa518162bc"
      },
      "outputs": [
        {
          "name": "stdout",
          "output_type": "stream",
          "text": [
            "Árvore:  90 <- 100 -> 200\n"
          ]
        }
      ],
      "source": [
        "#implementação de uma árvore binária\n",
        "\n",
        "raiz = NodoArvore(100)\n",
        "raiz.esquerda = NodoArvore(90)\n",
        "raiz.direita  = NodoArvore(200)\n",
        "print(\"Árvore: \", raiz)\n",
        "\n",
        "#m = NodoArvore(3) \n",
        "#m.esquerda = NodoArvore(1)\n",
        "#m.direita  = NodoArvore(5)\n",
        "   \n",
        "#print (repr(m)) \n"
      ]
    },
    {
      "cell_type": "markdown",
      "metadata": {
        "id": "XQiu3xydQ-LA"
      },
      "source": [
        "**CAMINHAMENTO ÁRVORE BINÁRIA**"
      ]
    },
    {
      "cell_type": "code",
      "execution_count": null,
      "metadata": {
        "colab": {
          "base_uri": "https://localhost:8080/"
        },
        "id": "06WQcsEYRDRB",
        "outputId": "8e8366bd-8e39-442b-c335-e34358d07b94"
      },
      "outputs": [
        {
          "name": "stdout",
          "output_type": "stream",
          "text": [
            "20 <- 40 -> 60\n"
          ]
        }
      ],
      "source": [
        "raiz = NodoArvore(40)\n",
        "\n",
        "raiz.esquerda = NodoArvore(20)\n",
        "raiz.direita  = NodoArvore(60)\n",
        "\n",
        "#Abertura da Árvore\n",
        "\n",
        "raiz.direita.esquerda  = NodoArvore(50) #à esquerda da direita \n",
        "raiz.direita.direita   = NodoArvore(70) #à direita da direita \n",
        "raiz.esquerda.esquerda = NodoArvore(10) #à esquerda da esquerda \n",
        "raiz.esquerda.direita  = NodoArvore(30) #à direita da esquerda \n",
        "\n",
        "print(raiz)"
      ]
    },
    {
      "cell_type": "markdown",
      "metadata": {
        "id": "P_lPNp51T9O8"
      },
      "source": [
        "**IMPLEMENTAÇÃO DO CAMINHAMENTO EM ORDEM**"
      ]
    },
    {
      "cell_type": "code",
      "execution_count": null,
      "metadata": {
        "colab": {
          "base_uri": "https://localhost:8080/"
        },
        "id": "aVB0lJWLUHYd",
        "outputId": "56f27e0e-9c6e-4102-e8f5-1a91acd463ed"
      },
      "outputs": [
        {
          "name": "stdout",
          "output_type": "stream",
          "text": [
            "10\n",
            "20\n",
            "30\n",
            "40\n",
            "50\n",
            "60\n",
            "70\n"
          ]
        }
      ],
      "source": [
        "def em_ordem(raiz):\n",
        "    if not raiz:\n",
        "        return\n",
        "\n",
        "    # Visita filho da esquerda.\n",
        "    em_ordem(raiz.esquerda)\n",
        "\n",
        "    # Visita nodo corrente.\n",
        "    print(raiz.chave),\n",
        "\n",
        "    # Visita filho da direita.\n",
        "    em_ordem(raiz.direita)\n",
        "\n",
        "em_ordem(raiz)"
      ]
    },
    {
      "cell_type": "markdown",
      "metadata": {
        "id": "MAThJFfUM1C1"
      },
      "source": [
        "ÁRVORE\n"
      ]
    },
    {
      "cell_type": "code",
      "execution_count": null,
      "metadata": {
        "id": "rQbdkvarJRgs"
      },
      "outputs": [],
      "source": [
        "class Vertice:\n",
        "  # Atributos ------------------------------------------------------------------\n",
        "  __pai               = None\n",
        "  __filho_a_esquerda  = None\n",
        "  __filho_a_direita   = None\n",
        "  __chave             = 0\n",
        "  # ----------------------------------------------------------------------------\n",
        "\n",
        "  # Construtor -----------------------------------------------------------------\n",
        "  def __init__(self, chave, pai = None, filho_esquerda = None, filho_direita = None):\n",
        "    self.set_pai(pai)\n",
        "    self.set_filho_esquerda(filho_esquerda)\n",
        "    self.set_filho_direita(filho_direita)\n",
        "    self.set_chave(chave)\n",
        "  # ----------------------------------------------------------------------------\n",
        "\n",
        "  # Métodos de configuração ----------------------------------------------------\n",
        "  def set_pai(self, pai):\n",
        "    self.__pai = pai\n",
        "\n",
        "  def set_filho_esquerda(self, filho_esquerda):\n",
        "    self.__filho_a_esquerda = filho_esquerda\n",
        "\n",
        "  def set_filho_direita(self, filho_direita):\n",
        "    self.__filho_a_direita = filho_direita\n",
        "\n",
        "  def set_chave(self, chave):\n",
        "    self.__chave = chave    \n",
        "  # ----------------------------------------------------------------------------\n",
        "\n",
        "  # Métodos de retorno ---------------------------------------------------------\n",
        "  def get_pai(self):\n",
        "    return self.__pai\n",
        "\n",
        "  def get_filho_esquerda(self):\n",
        "    return self.__filho_a_esquerda\n",
        "\n",
        "  def get_filho_direita(self):\n",
        "    return self.__filho_a_direita\n",
        "\n",
        "  def get_chave(self):\n",
        "    return self.__chave  \n",
        "\n",
        "\n"
      ]
    },
    {
      "cell_type": "markdown",
      "metadata": {
        "id": "LAh6VLrXEkt8"
      },
      "source": [
        "**ÁRVORE AVL**"
      ]
    },
    {
      "cell_type": "code",
      "execution_count": null,
      "metadata": {
        "id": "VmqkOfeTEojK"
      },
      "outputs": [],
      "source": [
        "  #Árvore AVL em Python\n",
        "\n",
        "\n",
        "class No:\n",
        "    def __init__(self, data):\n",
        "        self.data = data\n",
        "        self.setaFilhos(None, None)\n",
        "\n",
        "    def setaFilhos(self, esquerda, direita):\n",
        "        self.esquerda = esquerda\n",
        "        self.direita = direita\n",
        "\n",
        "    def balanco(self):\n",
        "        prof_esq = 0\n",
        "        if self.esquerda:\n",
        "            prof_esq = self.esquerda.profundidade()\n",
        "        prof_dir = 0\n",
        "        if self.direita:\n",
        "            prof_dir = self.direita.profundidade()\n",
        "        return prof_esq - prof_dir\n",
        "\n",
        "    def profundidade(self):\n",
        "        prof_esq = 0\n",
        "        if self.esquerda:\n",
        "            prof_esq = self.esquerda.profundidade()\n",
        "        prof_dir = 0\n",
        "        if self.direita:\n",
        "            prof_dir = self.direita.profundidade()\n",
        "        return 1 + max(prof_esq, prof_dir)\n",
        "\n",
        "    def rotacaoEsquerda(self):\n",
        "        self.data, self.direita.data = self.direita.data, self.data\n",
        "        old_esquerda = self.esquerda\n",
        "        self.setaFilhos(self.direita, self.direita.direita)\n",
        "        self.esquerda.setaFilhos(old_esquerda, self.esquerda.esquerda)\n",
        "\n",
        "    def rotacaoDireita(self):\n",
        "        self.data, self.esquerda.data = self.esquerda.data, self.data\n",
        "        old_direita = self.direita\n",
        "        self.setaFilhos(self.esquerda.esquerda, self.esquerda)\n",
        "        self.direita.setaFilhos(self.direita.direita, old_direita)\n",
        "\n",
        "    def rotacaoEsquerdaDireita(self):\n",
        "        self.esquerda.rotacaoEsquerda()\n",
        "        self.rotacaoDireita()\n",
        "\n",
        "    def rotacaoDireitaEsquerda(self):\n",
        "        self.direita.rotacaoDireita()\n",
        "        self.rotacaoEsquerda()\n",
        "\n",
        "    def executaBalanco(self):\n",
        "        bal = self.balanco()\n",
        "        if bal > 1:\n",
        "            if self.esquerda.balanco() > 0:\n",
        "                self.rotacaoDireita()\n",
        "            else:\n",
        "                self.rotacaoEsquerdaDireita()\n",
        "        elif bal < -1:\n",
        "            if self.direita.balanco() < 0:\n",
        "                self.rotacaoEsquerda()\n",
        "            else:\n",
        "                self.rotacaoDireitaEsquerda()\n",
        "\n",
        "    def insere(self, data):\n",
        "        if data <= self.data:\n",
        "            if not self.esquerda:\n",
        "                self.esquerda = No(data)\n",
        "            else:\n",
        "                self.esquerda.insere(data)\n",
        "        else:\n",
        "            if not self.direita:\n",
        "                self.direita = No(data)\n",
        "            else:\n",
        "                self.direita.insere(data)\n",
        "        self.executaBalanco()\n",
        "\n",
        "    def imprimeArvore(self, indent = 0):\n",
        "        print (\" \" * indent + str(self.data))\n",
        "        if self.esquerda:\n",
        "            self.esquerda.imprimeArvore(indent + 2)\n",
        "        if self.direita:\n",
        "            self.direita.imprimeArvore(indent + 2)"
      ]
    },
    {
      "cell_type": "markdown",
      "metadata": {
        "id": "j5MXs73Yp4d2"
      },
      "source": [
        "**ÁRVORE RUBRO NEGRA**"
      ]
    },
    {
      "cell_type": "code",
      "execution_count": null,
      "metadata": {
        "id": "ZAXlMAZTp8BH"
      },
      "outputs": [],
      "source": [
        "BLACK = True\n",
        "RED   = False\n",
        "\n",
        "class RBTree:\n",
        "\n",
        "    def __init__(self):\n",
        "        self.root = None\n",
        "\n",
        "\n",
        "    def __str__(self):\n",
        "        return self.printTree(self.root)\n",
        "\n",
        "    def printTree(self, node):\n",
        "        str = ''\n",
        "        if node.left is not None:\n",
        "            str += self.printTree(node.left)\n",
        "\n",
        "        str += node.__str__() + '\\n'\n",
        "\n",
        "        if node.right is not None:\n",
        "            str += self.printTree(node.right)\n",
        "        \n",
        "        return str\n",
        "        \n",
        "        \n",
        "    def insert(self, item, key, node=None):\n",
        "        if node is None:\n",
        "            node = self.root\n",
        "            \n",
        "        # se a arvore não estiver vazia #\n",
        "        if node is not None:\n",
        "            \n",
        "            # se for folha #\n",
        "            if node.left is None and node.right is None:\n",
        "                \n",
        "                # cria um novo nó #\n",
        "                newNode = RBTreeNode(item, key, parent=node)\n",
        "\n",
        "                # define se é filho direito ou esquerdo #\n",
        "                if key >= node.key:\n",
        "                    node.right = newNode\n",
        "                else:\n",
        "                    node.left = newNode\n",
        "                \n",
        "                self.corrigir(newNode)\n",
        "                return True\n",
        "\n",
        "            # se tiver filho direito #\n",
        "            if node.right != None:\n",
        "                \n",
        "                # compara o valor das chaves #\n",
        "                if key >= node.key:\n",
        "                    self.insert(item, key, node.right)\n",
        "\n",
        "            # se tiver filho esquerdo #\n",
        "            if node.left != None:\n",
        "                \n",
        "                # compara o valor das chaves #\n",
        "                if key < node.key:\n",
        "                    self.insert(item, key, node.left)\n",
        "            \n",
        "            \n",
        "                \n",
        "            \n",
        "\n",
        "        # se a arvore estiver vazia #\n",
        "        else:\n",
        "                # cria um novo nó #\n",
        "                newNode = RBTreeNode(item, key, parent=None)\n",
        "\n",
        "                self.root = newNode\n",
        "                self.corrigir(newNode)\n",
        "                return True\n",
        "        \n",
        "\n",
        "    def corrigir(self, node):\n",
        "        # caso 1 #\n",
        "        if node.parent is None:\n",
        "            node.color = BLACK\n",
        "        \n",
        "        # caso 2 #\n",
        "        else:\n",
        "            avo = node.avo()\n",
        "            tio = node.tio()\n",
        "            pai = node.parent\n",
        "\n",
        "            if tio != None and tio.color == RED:\n",
        "                pai.color = BLACK\n",
        "                avo.color = RED\n",
        "                tio.color = BLACK\n",
        "\n",
        "                self.corrigir(avo)\n",
        "            \n",
        "            # caso 3 #\n",
        "            else:\n",
        "\n",
        "                # subcaso 1 #\n",
        "                \n",
        "                # Caso o nó inserido seja filho esquerdo e o pai do nó também seja filho esquerdo\n",
        "                \n",
        "                if avo is not None:\n",
        "                    if avo.left == pai and node == pai.left:\n",
        "                        \n",
        "                        # se a cor do avô for preto e do pai for vermelho\n",
        "                        if avo.color == BLACK and pai.color == RED:\n",
        "                            \n",
        "                            # recolore o pai e o avô\n",
        "                            pai.recolorir()\n",
        "                            avo.recolorir()\n",
        "\n",
        "                            # faz-se uma rotação a direita\n",
        "                            if avo.parent is not None:\n",
        "                                if avo.parent.left == avo:\n",
        "                                    avo.parent.left = pai.rotacaoDireita()\n",
        "                                else:\n",
        "                                    avo.parent.right = pai.rotacaoDireita()\n",
        "                            else:\n",
        "                                self.root = pai.rotacaoEsquerda()\n",
        "                            \n",
        "\n",
        "                    # subcaso 2 #\n",
        "\n",
        "                    # Caso o nó inserido seja filho direito e o pai do nó também seja filho direito\n",
        "                    elif avo.right == pai and node == pai.right:\n",
        "                        \n",
        "                        # se a cor do avô for preto e do pai for vermelho\n",
        "                        if avo.color == BLACK and pai.color == RED:\n",
        "                            \n",
        "                            # recolore o pai e o avô\n",
        "                            pai.recolorir()\n",
        "                            avo.recolorir()\n",
        "\n",
        "                            # faz-se uma rotação a esquerda\n",
        "                            if avo.parent is not None:\n",
        "                                if avo.parent.left == avo:\n",
        "                                    avo.parent.left = pai.rotacaoEsquerda()\n",
        "                                else:\n",
        "                                    avo.parent.right = pai.rotacaoEsquerda()\n",
        "                            else:\n",
        "                                self.root = pai.rotacaoEsquerda()\n",
        "\n",
        "                    # subcaso 3 #\n",
        "\n",
        "                    # Caso o nó inserido seja filho esquedro e o pai seja filho direito   \n",
        "                    elif avo.right == pai and node == pai.left:\n",
        "\n",
        "                        # se a cor do avô for preto e do pai for vermelho\n",
        "                        if avo.color == BLACK and pai.color == RED:\n",
        "                            \n",
        "                            # recolore o pai e o avô\n",
        "                            # pai.recolorir()\n",
        "                            # avo.recolorir()\n",
        "\n",
        "                            # realiza-se uma rotação simples a direita\n",
        "                            avo.right = node.rotacaoDireita()\n",
        "\n",
        "                            if avo.parent is not None:\n",
        "                                if avo.parent.left == avo:\n",
        "                                    avo.parent.left = pai.rotacaoEsquerda()\n",
        "                                else:\n",
        "                                    avo.parent.right = pai.rotacaoEsquerda()\n",
        "                            else:\n",
        "                                self.root = pai.rotacaoEsquerda()\n",
        "\n",
        "                    # subcaso 4 #\n",
        "\n",
        "                    # Caso o nó inserido seja filho esquedro e o pai seja filho direito   \n",
        "                    elif avo.left == pai and node == pai.right:\n",
        "\n",
        "                        # se a cor do avô for preto e do pai for vermelho\n",
        "                        if avo.color == BLACK and pai.color == RED:\n",
        "                            \n",
        "                            # recolore o pai e o avô\n",
        "                            # pai.recolorir()\n",
        "                            # avo.recolorir()\n",
        "\n",
        "                            # realiza-se uma rotação simples a esqueda\n",
        "                            avo.left = node.rotacaoEsquerda()\n",
        "\n",
        "                            if avo.parent is not None:\n",
        "                                if avo.parent.left == avo:\n",
        "                                    avo.parent.left = pai.rotacaoDireita()\n",
        "                                else:\n",
        "                                    avo.parent.right = pai.rotacaoDireita()\n",
        "                            else:\n",
        "                                self.root = pai.rotacaoDireita()\n",
        "                self.corrigir(pai)\n"
      ]
    },
    {
      "cell_type": "markdown",
      "metadata": {
        "id": "80-lHiqBhMPE"
      },
      "source": []
    },
    {
      "cell_type": "code",
      "execution_count": null,
      "metadata": {
        "id": "EQQESx0VhM37"
      },
      "outputs": [],
      "source": []
    }
  ],
  "metadata": {
    "colab": {
      "provenance": [],
      "include_colab_link": true
    },
    "kernelspec": {
      "display_name": "Python 3",
      "name": "python3"
    },
    "language_info": {
      "name": "python"
    }
  },
  "nbformat": 4,
  "nbformat_minor": 0
}